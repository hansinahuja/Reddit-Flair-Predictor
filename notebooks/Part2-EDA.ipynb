{
  "nbformat": 4,
  "nbformat_minor": 0,
  "metadata": {
    "kernelspec": {
      "display_name": "Python 3",
      "language": "python",
      "name": "python3"
    },
    "language_info": {
      "codemirror_mode": {
        "name": "ipython",
        "version": 3
      },
      "file_extension": ".py",
      "mimetype": "text/x-python",
      "name": "python",
      "nbconvert_exporter": "python",
      "pygments_lexer": "ipython3",
      "version": "3.7.3"
    },
    "colab": {
      "name": "Part2-EDA.ipynb",
      "provenance": [],
      "toc_visible": true
    }
  },
  "cells": [
    {
      "cell_type": "markdown",
      "metadata": {
        "id": "uSje_Ru5quNj",
        "colab_type": "text"
      },
      "source": [
        "# Part 2 - Exploratory Data Analysis"
      ]
    },
    {
      "cell_type": "code",
      "metadata": {
        "id": "1ub035_0quNk",
        "colab_type": "code",
        "colab": {
          "base_uri": "https://localhost:8080/",
          "height": 84
        },
        "outputId": "6a6e992f-7067-419d-f113-d2b6da682d87"
      },
      "source": [
        "# Import required libraries\n",
        "\n",
        "# For plotting data\n",
        "import pandas as pd\n",
        "import matplotlib.pyplot as plt\n",
        "\n",
        "# For text preprocessing\n",
        "from sklearn.feature_selection import chi2\n",
        "from sklearn.feature_extraction.text import TfidfVectorizer\n",
        "import numpy as np\n",
        "import re\n",
        "import nltk\n",
        "from nltk.corpus import stopwords\n",
        "from nltk.stem import WordNetLemmatizer \n",
        "nltk.download(\"stopwords\") \n",
        "nltk.download('wordnet') \n",
        "stopwords = set(stopwords.words('english'))\n",
        "lemmatizer = WordNetLemmatizer() "
      ],
      "execution_count": 1,
      "outputs": [
        {
          "output_type": "stream",
          "text": [
            "[nltk_data] Downloading package stopwords to /root/nltk_data...\n",
            "[nltk_data]   Package stopwords is already up-to-date!\n",
            "[nltk_data] Downloading package wordnet to /root/nltk_data...\n",
            "[nltk_data]   Package wordnet is already up-to-date!\n"
          ],
          "name": "stdout"
        }
      ]
    },
    {
      "cell_type": "code",
      "metadata": {
        "id": "a1kPFpGiquNq",
        "colab_type": "code",
        "colab": {}
      },
      "source": [
        "# Load the dataset\n",
        "data = pd.read_csv('balanced_data.csv')\n",
        "data['length'] = data['title'].astype(str).apply(len)\n",
        "data['words'] = data['title'].apply(lambda x: len(str(x).split()))"
      ],
      "execution_count": 0,
      "outputs": []
    },
    {
      "cell_type": "markdown",
      "metadata": {
        "id": "DyAdtWV1quNt",
        "colab_type": "text"
      },
      "source": [
        "## Some basic visualisations"
      ]
    },
    {
      "cell_type": "markdown",
      "metadata": {
        "id": "2J0_1AUTquNt",
        "colab_type": "text"
      },
      "source": [
        "Following the operations in the first notebook, we've balanced the data to a reasonable extent. Here's the visualisation again:"
      ]
    },
    {
      "cell_type": "code",
      "metadata": {
        "id": "dEZ65HLsquNu",
        "colab_type": "code",
        "colab": {
          "base_uri": "https://localhost:8080/",
          "height": 479
        },
        "outputId": "c379b75c-c9af-4a54-8be2-c3b11a4c2b8c"
      },
      "source": [
        "flairs = data['flair'].value_counts()\n",
        "flairs.plot(kind='bar', figsize=(8,6))"
      ],
      "execution_count": 3,
      "outputs": [
        {
          "output_type": "execute_result",
          "data": {
            "text/plain": [
              "<matplotlib.axes._subplots.AxesSubplot at 0x7fae64fc7f98>"
            ]
          },
          "metadata": {
            "tags": []
          },
          "execution_count": 3
        },
        {
          "output_type": "display_data",
          "data": {
            "image/png": "[encoded data removed]",
            "text/plain": [
              "<Figure size 576x432 with 1 Axes>"
            ]
          },
          "metadata": {
            "tags": [],
            "needs_background": "light"
          }
        }
      ]
    },
    {
      "cell_type": "code",
      "metadata": {
        "id": "UHmGU4rmquNw",
        "colab_type": "code",
        "colab": {
          "base_uri": "https://localhost:8080/",
          "height": 351
        },
        "outputId": "3efb1f09-cc99-4d51-ff9a-02568cfeba04"
      },
      "source": [
        "ax = data['words'].plot.hist(bins=50, figsize=(7,5))\n",
        "ax.set_xlabel(\"number of words\")\n",
        "ax.set_ylabel(\"frequency\")"
      ],
      "execution_count": 4,
      "outputs": [
        {
          "output_type": "execute_result",
          "data": {
            "text/plain": [
              "Text(0, 0.5, 'frequency')"
            ]
          },
          "metadata": {
            "tags": []
          },
          "execution_count": 4
        },
        {
          "output_type": "display_data",
          "data": {
            "image/png": "[encoded data removed]",
            "text/plain": [
              "<Figure size 504x360 with 1 Axes>"
            ]
          },
          "metadata": {
            "tags": [],
            "needs_background": "light"
          }
        }
      ]
    },
    {
      "cell_type": "code",
      "metadata": {
        "id": "UuhsytVhquNz",
        "colab_type": "code",
        "colab": {
          "base_uri": "https://localhost:8080/",
          "height": 351
        },
        "outputId": "d1c1c756-6b4c-4157-e4df-7227d8befe44"
      },
      "source": [
        "ax = data['length'].plot.hist(bins=50, figsize=(7,5))\n",
        "ax.set_xlabel(\"length of sentences\")\n",
        "ax.set_ylabel(\"frequency\")"
      ],
      "execution_count": 5,
      "outputs": [
        {
          "output_type": "execute_result",
          "data": {
            "text/plain": [
              "Text(0, 0.5, 'frequency')"
            ]
          },
          "metadata": {
            "tags": []
          },
          "execution_count": 5
        },
        {
          "output_type": "display_data",
          "data": {
            "image/png": "[encoded data removed]",
            "text/plain": [
              "<Figure size 504x360 with 1 Axes>"
            ]
          },
          "metadata": {
            "tags": [],
            "needs_background": "light"
          }
        }
      ]
    },
    {
      "cell_type": "code",
      "metadata": {
        "id": "oKrSwgpDquN2",
        "colab_type": "code",
        "colab": {
          "base_uri": "https://localhost:8080/",
          "height": 674
        },
        "outputId": "2e71a282-38da-482a-d185-82ccf1ed3687"
      },
      "source": [
        "# Let's plot the pivot table\n",
        "\n",
        "pivot = data.pivot_table(index=['flair'], values=['score'], aggfunc={'median','mean'})\n",
        "print(pivot)\n",
        "pivot.plot(figsize=(15,6))\n",
        "plt.show()"
      ],
      "execution_count": 6,
      "outputs": [
        {
          "output_type": "stream",
          "text": [
            "                         score       \n",
            "                          mean median\n",
            "flair                                \n",
            "AskIndia             46.194800   24.0\n",
            "Business/Finance     13.573200    1.0\n",
            "CAA-NRC               1.049533    1.0\n",
            "Coronavirus           1.748800    1.0\n",
            "Demonetization       25.834241    1.0\n",
            "Food                 22.659091    1.0\n",
            "Non-Political       313.935600  124.0\n",
            "Photography          70.914800    1.0\n",
            "Policy/Economy       36.334800   10.0\n",
            "Politics            220.393600  125.0\n",
            "Scheduled             4.757188    1.0\n",
            "Science/Technology   28.528000    2.0\n",
            "Sports               24.066800    1.0\n",
            "[R]eddiquette        51.133600   13.0\n"
          ],
          "name": "stdout"
        },
        {
          "output_type": "display_data",
          "data": {
            "image/png": "[encoded data removed]",
            "text/plain": [
              "<Figure size 1080x432 with 1 Axes>"
            ]
          },
          "metadata": {
            "tags": [],
            "needs_background": "light"
          }
        }
      ]
    },
    {
      "cell_type": "markdown",
      "metadata": {
        "id": "VYq7ztCqquN7",
        "colab_type": "text"
      },
      "source": [
        "As we can see, the posts tagged Political and Non-political gain the most traction on this Subreddit. This indicates that the less popular flairs as subject to lesser scrutiny from the Subreddit moderators as to the appropriateness of the flair attached to the post. For example, let's look at a few entries from the dataset."
      ]
    },
    {
      "cell_type": "code",
      "metadata": {
        "id": "fAWWcLcLquN8",
        "colab_type": "code",
        "colab": {
          "base_uri": "https://localhost:8080/",
          "height": 67
        },
        "outputId": "bb0c128c-1fbf-4ce4-953d-31cf611b0d31"
      },
      "source": [
        "print(data['title'][2012], data['flair'][2012], data['score'][2012], sep='\\n')"
      ],
      "execution_count": 7,
      "outputs": [
        {
          "output_type": "stream",
          "text": [
            "50 Lakh Men Lost Their Jobs After Demonetisation: Report\n",
            "Policy/Economy\n",
            "204\n"
          ],
          "name": "stdout"
        }
      ]
    },
    {
      "cell_type": "markdown",
      "metadata": {
        "id": "SI5ERXOkquN_",
        "colab_type": "text"
      },
      "source": [
        "This post should've more appropriately been tagged under 'Demonetization'.\n",
        "Furthermore, there are a lot of posts that simply don't provide a lot of information for appropriate preidictions."
      ]
    },
    {
      "cell_type": "code",
      "metadata": {
        "id": "M6bIrHt1quN_",
        "colab_type": "code",
        "colab": {
          "base_uri": "https://localhost:8080/",
          "height": 67
        },
        "outputId": "460f4440-6267-4082-c9cf-cc305b35561f"
      },
      "source": [
        "print(data['flair'][2504], data['title'][2504], sep=' || ')\n",
        "print(data['flair'][2540], data['title'][2540], sep=' || ')\n",
        "print(data['flair'][2571], data['title'][2571], sep=' || ')"
      ],
      "execution_count": 8,
      "outputs": [
        {
          "output_type": "stream",
          "text": [
            "Non-Political || #redisgood\n",
            "Food || This is ultimate!\n",
            "[R]eddiquette || R/mangalore - GRMD 2019\n"
          ],
          "name": "stdout"
        }
      ]
    },
    {
      "cell_type": "markdown",
      "metadata": {
        "id": "kUXhXMPRquOC",
        "colab_type": "text"
      },
      "source": [
        "The only remedy would be to re-label the data by hand more appropriately, or eliminate these entries during data acquisition (which wouldn't be possible without manual intervention). Given that that's not feasible for the current task, we'll go forth even with this faulty data and see the kind of results we get."
      ]
    },
    {
      "cell_type": "markdown",
      "metadata": {
        "id": "mWxfQfkBquOC",
        "colab_type": "text"
      },
      "source": [
        "## Data preprocessing"
      ]
    },
    {
      "cell_type": "code",
      "metadata": {
        "id": "Q0FQcf_lquOD",
        "colab_type": "code",
        "colab": {}
      },
      "source": [
        "# Standard NLP data cleaning techniques\n",
        "\n",
        "# Function for standard cleaning of text (remove punctuations, abbreviations, etc.) using regular expressions\n",
        "def standard_clean(text):\n",
        "  text = str(text)\n",
        "  text = text.lower()\n",
        "  text = re.sub(r\"[^A-Za-z0-9^,!.\\/'+-=]\", \" \", text)\n",
        "  text = re.sub(r\"what's\", \"what is \", text)\n",
        "  text = re.sub(r\"\\'s\", \" \", text)\n",
        "  text = re.sub(r\"\\'ve\", \" have \", text)\n",
        "  text = re.sub(r\"can't\", \"cannot \", text)\n",
        "  text = re.sub(r\"n't\", \" not \", text)\n",
        "  text = re.sub(r\"i'm\", \"i am \", text)\n",
        "  text = re.sub(r\"\\'re\", \" are \", text)\n",
        "  text = re.sub(r\"\\'d\", \" would \", text)\n",
        "  text = re.sub(r\"\\'ll\", \" will \", text)\n",
        "  text = re.sub(r\",\", \" \", text)\n",
        "  text = re.sub(r\"\\.\", \" \", text)\n",
        "  text = re.sub(r\"!\", \" ! \", text)\n",
        "  text = re.sub(r\"\\/\", \" \", text)\n",
        "  text = re.sub(r\"\\^\", \" ^ \", text)\n",
        "  text = re.sub(r\"\\+\", \" + \", text)\n",
        "  text = re.sub(r\"\\-\", \" - \", text)\n",
        "  text = re.sub(r\"\\=\", \" = \", text)\n",
        "  text = re.sub(r\"'\", \" \", text)\n",
        "  text = re.sub(r\"(\\d+)(k)\", r\"\\g<1>000\", text)\n",
        "  text = re.sub(r\":\", \" : \", text)\n",
        "  text = re.sub(r\" e g \", \" eg \", text)\n",
        "  text = re.sub(r\" b g \", \" bg \", text)\n",
        "  text = re.sub(r\" u s \", \" american \", text)\n",
        "  text = re.sub(r\"\\0s\", \"0\", text)\n",
        "  text = re.sub(r\" 9 11 \", \"911\", text)\n",
        "  text = re.sub(r\"e - mail\", \"email\", text)\n",
        "  text = re.sub(r\"j k\", \"jk\", text)\n",
        "  text = re.sub(r\"\\s{2,}\", \" \", text)\n",
        "  return text\n",
        "\n",
        "# Function to remove stopwords from a sentence\n",
        "def remove_stopwords(text):\n",
        "  text = text.split()\n",
        "  clean = \"\"\n",
        "  for w in text:\n",
        "    if w not in stopwords:\n",
        "      clean = clean + \" \" + w\n",
        "  return str(clean[1:])\n",
        "\n",
        "# Function to lemmatize words of a sentence using Lemmatizer object\n",
        "def lemmatize(text):\n",
        "  text = text.split()\n",
        "  clean = \"\"\n",
        "  for w in text:\n",
        "    clean = clean + \" \" + lemmatizer.lemmatize(w)\n",
        "  return str(clean[1:])\n",
        "\n",
        "# Wrapper function to clean the text\n",
        "def clean(text):\n",
        "  text = standard_clean(text)\n",
        "  text = remove_stopwords(text)\n",
        "  text = lemmatize(text)\n",
        "  return text"
      ],
      "execution_count": 0,
      "outputs": []
    },
    {
      "cell_type": "code",
      "metadata": {
        "id": "_VQZ0_zZquOF",
        "colab_type": "code",
        "colab": {}
      },
      "source": [
        "data['title_clean'] = data.title.map(lambda x: clean(x))\n",
        "\n",
        "# Save the preprocessed data\n",
        "data.to_csv('preprocessed_data.csv', index=False)"
      ],
      "execution_count": 0,
      "outputs": []
    },
    {
      "cell_type": "code",
      "metadata": {
        "id": "K7pf-n5-quOJ",
        "colab_type": "code",
        "colab": {}
      },
      "source": [
        "# Assigning keys to all of the flairs\n",
        "\n",
        "data = data[['flair', 'title_clean']]\n",
        "data = data[pd.notnull(data['title_clean'])]\n",
        "data['flair_id'] = data['flair'].factorize()[0]\n",
        "flair_id_df = data[['flair', 'flair_id']].drop_duplicates().sort_values('flair_id')\n",
        "flair_to_id = dict(flair_id_df.values)\n",
        "id_to_flair = dict(flair_id_df[['flair_id', 'flair']].values)"
      ],
      "execution_count": 0,
      "outputs": []
    },
    {
      "cell_type": "code",
      "metadata": {
        "id": "bEAqKWrsquOL",
        "colab_type": "code",
        "colab": {}
      },
      "source": [
        "# Create a feature space using tf-idf vectorizer\n",
        "\n",
        "tfidf = TfidfVectorizer(sublinear_tf=True, min_df=20, ngram_range=(1, 2))\n",
        "features = tfidf.fit_transform(data.title_clean).toarray()\n",
        "labels = data.flair_id"
      ],
      "execution_count": 0,
      "outputs": []
    },
    {
      "cell_type": "code",
      "metadata": {
        "id": "LAHeHy8NquON",
        "colab_type": "code",
        "colab": {
          "base_uri": "https://localhost:8080/",
          "height": 515
        },
        "outputId": "3beb0d11-1385-48c9-b0dc-817d39103e50"
      },
      "source": [
        "# Find out the most correlated ngrams for each flair\n",
        "\n",
        "ngrams = []\n",
        "for flair, id in sorted(flair_to_id.items()):\n",
        "    idx = np.argsort(chi2(features, labels==id)[0])\n",
        "    feature_names = np.array(tfidf.get_feature_names())[idx]\n",
        "    unigrams = []\n",
        "    bigrams = []\n",
        "    for fn in feature_names:\n",
        "        n = len(fn.split(' '))\n",
        "        if n==1:\n",
        "            unigrams.append(fn)\n",
        "        if n==2:\n",
        "            bigrams.append(fn)\n",
        "    ngrams.append([flair, ', '.join(unigrams[-5:]), ', '.join(bigrams[-5:])])\n",
        "ngrams = pd.DataFrame(ngrams, columns=['flair', 'correlated unigrams', 'correlated bigrams'])\n",
        "pd.set_option('display.max_colwidth', -1)\n",
        "ngrams"
      ],
      "execution_count": 13,
      "outputs": [
        {
          "output_type": "stream",
          "text": [
            "/usr/local/lib/python3.6/dist-packages/ipykernel_launcher.py:16: FutureWarning: Passing a negative integer is deprecated in version 1.0 and will not be supported in future version. Instead, use None to not limit the column width.\n",
            "  app.launch_new_instance()\n"
          ],
          "name": "stderr"
        },
        {
          "output_type": "execute_result",
          "data": {
            "text/html": [
              "<div>\n",
              "<style scoped>\n",
              "    .dataframe tbody tr th:only-of-type {\n",
              "        vertical-align: middle;\n",
              "    }\n",
              "\n",
              "    .dataframe tbody tr th {\n",
              "        vertical-align: top;\n",
              "    }\n",
              "\n",
              "    .dataframe thead th {\n",
              "        text-align: right;\n",
              "    }\n",
              "</style>\n",
              "<table border=\"1\" class=\"dataframe\">\n",
              "  <thead>\n",
              "    <tr style=\"text-align: right;\">\n",
              "      <th></th>\n",
              "      <th>flair</th>\n",
              "      <th>correlated unigrams</th>\n",
              "      <th>correlated bigrams</th>\n",
              "    </tr>\n",
              "  </thead>\n",
              "  <tbody>\n",
              "    <tr>\n",
              "      <th>0</th>\n",
              "      <td>AskIndia</td>\n",
              "      <td>experience, anyone, askindia, advice, help</td>\n",
              "      <td>people india, career advice, please help, need advice, need help</td>\n",
              "    </tr>\n",
              "    <tr>\n",
              "      <th>1</th>\n",
              "      <td>Business/Finance</td>\n",
              "      <td>business, service, specialist, manufacturer, grotal</td>\n",
              "      <td>vashikaran specialist, plant manufacturer, manufacturer india, top 20, grotal com</td>\n",
              "    </tr>\n",
              "    <tr>\n",
              "      <th>2</th>\n",
              "      <td>CAA-NRC</td>\n",
              "      <td>bagh, shaheen, protest, nrc, caa</td>\n",
              "      <td>delhi riot, caa protest, caa nrc, shaheen bagh, anti caa</td>\n",
              "    </tr>\n",
              "    <tr>\n",
              "      <th>3</th>\n",
              "      <td>Coronavirus</td>\n",
              "      <td>19, corona, lockdown, covid, coronavirus</td>\n",
              "      <td>coronavirus lockdown, corona virus, 21 day, social distancing, covid 19</td>\n",
              "    </tr>\n",
              "    <tr>\n",
              "      <th>4</th>\n",
              "      <td>Demonetization</td>\n",
              "      <td>500, cash, rupee, note, bank</td>\n",
              "      <td>black money, pmc bank, bank account, yes bank, central bank</td>\n",
              "    </tr>\n",
              "    <tr>\n",
              "      <th>5</th>\n",
              "      <td>Food</td>\n",
              "      <td>biryani, curry, chicken, food, recipe</td>\n",
              "      <td>covid 19, food delivery, south indian, indian food, street food</td>\n",
              "    </tr>\n",
              "    <tr>\n",
              "      <th>6</th>\n",
              "      <td>Non-Political</td>\n",
              "      <td>driver, traffic, cyclone, man, np</td>\n",
              "      <td>discussion thread, 20 year, ia officer, covid 19, year old</td>\n",
              "    </tr>\n",
              "    <tr>\n",
              "      <th>7</th>\n",
              "      <td>Photography</td>\n",
              "      <td>lake, beautiful, shot, sunset, oc</td>\n",
              "      <td>redmi note, taj mahal, one plus, poco f1, himachal pradesh</td>\n",
              "    </tr>\n",
              "    <tr>\n",
              "      <th>8</th>\n",
              "      <td>Policy/Economy</td>\n",
              "      <td>slowdown, gdp, economic, report, economy</td>\n",
              "      <td>lakh crore, economic slowdown, nirmala sitharaman, comment invited, indian economy</td>\n",
              "    </tr>\n",
              "    <tr>\n",
              "      <th>9</th>\n",
              "      <td>Politics</td>\n",
              "      <td>cartoon, gandhi, congress, bjp, modi</td>\n",
              "      <td>amit shah, satish acharya, pm modi, narendra modi, rahul gandhi</td>\n",
              "    </tr>\n",
              "    <tr>\n",
              "      <th>10</th>\n",
              "      <td>Scheduled</td>\n",
              "      <td>weekly, daily, discussion, random, thread</td>\n",
              "      <td>night random, late night, daily discussion, random daily, discussion thread</td>\n",
              "    </tr>\n",
              "    <tr>\n",
              "      <th>11</th>\n",
              "      <td>Science/Technology</td>\n",
              "      <td>launched, specification, chandrayaan, launch, isro</td>\n",
              "      <td>samsung galaxy, launch india, oneplus 6t, price specification, launched india</td>\n",
              "    </tr>\n",
              "    <tr>\n",
              "      <th>12</th>\n",
              "      <td>Sports</td>\n",
              "      <td>kohli, icc, match, cup, cricket</td>\n",
              "      <td>icc cricket, cricket world, cup 2019, virat kohli, world cup</td>\n",
              "    </tr>\n",
              "    <tr>\n",
              "      <th>13</th>\n",
              "      <td>[R]eddiquette</td>\n",
              "      <td>sexual, woman, raped, metoo, rape</td>\n",
              "      <td>old girl, sexual assault, rape case, sexual harassment, unnao rape</td>\n",
              "    </tr>\n",
              "  </tbody>\n",
              "</table>\n",
              "</div>"
            ],
            "text/plain": [
              "                 flair  ...                                                                  correlated bigrams\n",
              "0   AskIndia            ...  people india, career advice, please help, need advice, need help                  \n",
              "1   Business/Finance    ...  vashikaran specialist, plant manufacturer, manufacturer india, top 20, grotal com \n",
              "2   CAA-NRC             ...  delhi riot, caa protest, caa nrc, shaheen bagh, anti caa                          \n",
              "3   Coronavirus         ...  coronavirus lockdown, corona virus, 21 day, social distancing, covid 19           \n",
              "4   Demonetization      ...  black money, pmc bank, bank account, yes bank, central bank                       \n",
              "5   Food                ...  covid 19, food delivery, south indian, indian food, street food                   \n",
              "6   Non-Political       ...  discussion thread, 20 year, ia officer, covid 19, year old                        \n",
              "7   Photography         ...  redmi note, taj mahal, one plus, poco f1, himachal pradesh                        \n",
              "8   Policy/Economy      ...  lakh crore, economic slowdown, nirmala sitharaman, comment invited, indian economy\n",
              "9   Politics            ...  amit shah, satish acharya, pm modi, narendra modi, rahul gandhi                   \n",
              "10  Scheduled           ...  night random, late night, daily discussion, random daily, discussion thread       \n",
              "11  Science/Technology  ...  samsung galaxy, launch india, oneplus 6t, price specification, launched india     \n",
              "12  Sports              ...  icc cricket, cricket world, cup 2019, virat kohli, world cup                      \n",
              "13  [R]eddiquette       ...  old girl, sexual assault, rape case, sexual harassment, unnao rape                \n",
              "\n",
              "[14 rows x 3 columns]"
            ]
          },
          "metadata": {
            "tags": []
          },
          "execution_count": 13
        }
      ]
    },
    {
      "cell_type": "code",
      "metadata": {
        "id": "IJQuoy8PquOP",
        "colab_type": "code",
        "colab": {}
      },
      "source": [
        ""
      ],
      "execution_count": 0,
      "outputs": []
    }
  ]
}