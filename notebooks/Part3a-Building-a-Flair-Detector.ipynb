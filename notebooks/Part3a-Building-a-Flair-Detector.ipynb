{
 "cells": [
  {
   "cell_type": "markdown",
   "metadata": {
    "colab_type": "text",
    "id": "9DurmWFv1iev"
   },
   "source": [
    "# Part 3a - Building a Flair Detector"
   ]
  },
  {
   "cell_type": "markdown",
   "metadata": {
    "colab_type": "text",
    "id": "HpmUrSE11sSA"
   },
   "source": [
    "## Get the data ready"
   ]
  },
  {
   "cell_type": "code",
   "execution_count": 0,
   "metadata": {
    "colab": {},
    "colab_type": "code",
    "id": "Y3gGvCc51x_n"
   },
   "outputs": [],
   "source": [
    "import pandas as pd\n",
    "from sklearn.feature_extraction.text import TfidfVectorizer"
   ]
  },
  {
   "cell_type": "code",
   "execution_count": 0,
   "metadata": {
    "colab": {},
    "colab_type": "code",
    "id": "4ADBXenN5nwS"
   },
   "outputs": [],
   "source": [
    "data = pd.read_csv('preprocessed_data.csv')\n",
    "# data = data[:500]\n",
    "data = data[['flair', 'title_clean']]\n",
    "data = data[pd.notnull(data['title_clean'])]\n",
    "data['flair_id'] = data['flair'].factorize()[0]\n",
    "\n",
    "# Create a feature space using tf-idf vectorizer\n",
    "tfidf = TfidfVectorizer(sublinear_tf=True, min_df=20, ngram_range=(1, 2))\n",
    "features = tfidf.fit_transform(data.title_clean).toarray()\n",
    "labels = data.flair_id"
   ]
  },
  {
   "cell_type": "markdown",
   "metadata": {
    "colab_type": "text",
    "id": "2gRAXKT91_Hh"
   },
   "source": [
    "## Some standard models"
   ]
  },
  {
   "cell_type": "code",
   "execution_count": 0,
   "metadata": {
    "colab": {},
    "colab_type": "code",
    "id": "WOCfzzYNq0XT"
   },
   "outputs": [],
   "source": [
    "import numpy as np\n",
    "from sklearn.naive_bayes import MultinomialNB\n",
    "from sklearn.linear_model import LogisticRegression, SGDClassifier\n",
    "from sklearn.ensemble import RandomForestClassifier\n",
    "from sklearn.svm import LinearSVC\n",
    "from sklearn.feature_extraction.text import TfidfVectorizer\n",
    "from sklearn.model_selection import cross_validate\n",
    "from sklearn.metrics import make_scorer\n",
    "from sklearn.metrics import precision_score, recall_score, accuracy_score, f1_score\n",
    "import warnings\n",
    "warnings.filterwarnings('ignore') "
   ]
  },
  {
   "cell_type": "code",
   "execution_count": 0,
   "metadata": {
    "colab": {},
    "colab_type": "code",
    "id": "-D8TOPDzsW_E"
   },
   "outputs": [],
   "source": [
    "# The models that we'll test\n",
    "models = {'RandomForestClassifier': RandomForestClassifier(), \n",
    "          'LinearSVC': LinearSVC(), \n",
    "          'MultinomialNB': MultinomialNB(), \n",
    "          'LogisticRegression': LogisticRegression(), \n",
    "          'SGDClassifier': SGDClassifier()}\n",
    "\n",
    "# The metrics that we'll use\n",
    "scoring = {'accuracy': make_scorer(accuracy_score),\n",
    "           'precision': make_scorer(precision_score, average='macro'),\n",
    "           'recall': make_scorer(recall_score, average='macro'),\n",
    "           'f1_macro': make_scorer(f1_score, average='macro')}"
   ]
  },
  {
   "cell_type": "code",
   "execution_count": 0,
   "metadata": {
    "colab": {},
    "colab_type": "code",
    "id": "bQd0lhSWtJ_X"
   },
   "outputs": [],
   "source": [
    "results = []\n",
    "for name, model in models.items():\n",
    "\n",
    "  # Cross validate with k = 5\n",
    "  crossval = cross_validate(model, features, labels, scoring=scoring, cv=5)\n",
    "\n",
    "  # Get the metrics\n",
    "  accuracy = np.average(crossval['test_accuracy'])\n",
    "  f1 = np.average(crossval['test_f1_macro'])\n",
    "  precision = np.average(crossval['test_precision'])\n",
    "  recall = np.average(crossval['test_recall'])\n",
    "  results.append([name, accuracy, f1, precision, recall])"
   ]
  },
  {
   "cell_type": "code",
   "execution_count": 6,
   "metadata": {
    "colab": {
     "base_uri": "https://localhost:8080/",
     "height": 195
    },
    "colab_type": "code",
    "id": "rt5AB1Onw4d6",
    "outputId": "485c6022-b6f7-4d61-868b-45f22bc81111"
   },
   "outputs": [
    {
     "data": {
      "text/html": [
       "<div>\n",
       "<style scoped>\n",
       "    .dataframe tbody tr th:only-of-type {\n",
       "        vertical-align: middle;\n",
       "    }\n",
       "\n",
       "    .dataframe tbody tr th {\n",
       "        vertical-align: top;\n",
       "    }\n",
       "\n",
       "    .dataframe thead th {\n",
       "        text-align: right;\n",
       "    }\n",
       "</style>\n",
       "<table border=\"1\" class=\"dataframe\">\n",
       "  <thead>\n",
       "    <tr style=\"text-align: right;\">\n",
       "      <th></th>\n",
       "      <th>model</th>\n",
       "      <th>accuracy</th>\n",
       "      <th>f1 score</th>\n",
       "      <th>precision</th>\n",
       "      <th>recall</th>\n",
       "    </tr>\n",
       "  </thead>\n",
       "  <tbody>\n",
       "    <tr>\n",
       "      <th>0</th>\n",
       "      <td>RandomForestClassifier</td>\n",
       "      <td>0.505068</td>\n",
       "      <td>0.521039</td>\n",
       "      <td>0.531980</td>\n",
       "      <td>0.522742</td>\n",
       "    </tr>\n",
       "    <tr>\n",
       "      <th>1</th>\n",
       "      <td>LinearSVC</td>\n",
       "      <td>0.520967</td>\n",
       "      <td>0.531155</td>\n",
       "      <td>0.541206</td>\n",
       "      <td>0.532214</td>\n",
       "    </tr>\n",
       "    <tr>\n",
       "      <th>2</th>\n",
       "      <td>MultinomialNB</td>\n",
       "      <td>0.513514</td>\n",
       "      <td>0.521111</td>\n",
       "      <td>0.564902</td>\n",
       "      <td>0.507646</td>\n",
       "    </tr>\n",
       "    <tr>\n",
       "      <th>3</th>\n",
       "      <td>LogisticRegression</td>\n",
       "      <td>0.528817</td>\n",
       "      <td>0.547329</td>\n",
       "      <td>0.577673</td>\n",
       "      <td>0.534728</td>\n",
       "    </tr>\n",
       "    <tr>\n",
       "      <th>4</th>\n",
       "      <td>SGDClassifier</td>\n",
       "      <td>0.522557</td>\n",
       "      <td>0.523285</td>\n",
       "      <td>0.537911</td>\n",
       "      <td>0.542012</td>\n",
       "    </tr>\n",
       "  </tbody>\n",
       "</table>\n",
       "</div>"
      ],
      "text/plain": [
       "                    model  accuracy  f1 score  precision    recall\n",
       "0  RandomForestClassifier  0.505068  0.521039   0.531980  0.522742\n",
       "1               LinearSVC  0.520967  0.531155   0.541206  0.532214\n",
       "2           MultinomialNB  0.513514  0.521111   0.564902  0.507646\n",
       "3      LogisticRegression  0.528817  0.547329   0.577673  0.534728\n",
       "4           SGDClassifier  0.522557  0.523285   0.537911  0.542012"
      ]
     },
     "execution_count": 6,
     "metadata": {
      "tags": []
     },
     "output_type": "execute_result"
    }
   ],
   "source": [
    "results = pd.DataFrame(results, columns = ['model', 'accuracy', 'f1 score', 'precision', 'recall'])\n",
    "results"
   ]
  },
  {
   "cell_type": "code",
   "execution_count": 7,
   "metadata": {
    "colab": {
     "base_uri": "https://localhost:8080/",
     "height": 406
    },
    "colab_type": "code",
    "id": "Gi5MiLQc4SxN",
    "outputId": "649124e4-6549-4cc3-dcd7-d6507d2cb35f"
   },
   "outputs": [
    {
     "data": {
      "text/plain": [
       "<matplotlib.axes._subplots.AxesSubplot at 0x7fb9251661d0>"
      ]
     },
     "execution_count": 7,
     "metadata": {
      "tags": []
     },
     "output_type": "execute_result"
    },
    {
     "data": {
      "image/png": "[encoded data removed]",
      "text/plain": [
       "<Figure size 432x288 with 1 Axes>"
      ]
     },
     "metadata": {
      "needs_background": "light",
      "tags": []
     },
     "output_type": "display_data"
    }
   ],
   "source": [
    "results.plot('model', ['accuracy', 'f1 score', 'precision' , 'recall'], kind = 'bar')"
   ]
  },
  {
   "cell_type": "markdown",
   "metadata": {
    "colab_type": "text",
    "id": "z5iFEJKZ20AL"
   },
   "source": [
    "## XGBoost"
   ]
  },
  {
   "cell_type": "code",
   "execution_count": 0,
   "metadata": {
    "colab": {},
    "colab_type": "code",
    "id": "im6L-pGG21i9"
   },
   "outputs": [],
   "source": [
    "import xgboost as xgb\n",
    "from sklearn.model_selection import train_test_split"
   ]
  },
  {
   "cell_type": "code",
   "execution_count": 0,
   "metadata": {
    "colab": {},
    "colab_type": "code",
    "id": "LRF86ueU23at"
   },
   "outputs": [],
   "source": [
    "X_train, X_test, Y_train, Y_test, indices_train, indices_test = train_test_split(features, labels, data.index, test_size=0.2)\n",
    "D_train = xgb.DMatrix(X_train, label=Y_train)\n",
    "D_test = xgb.DMatrix(X_test, label=Y_test)\n",
    "param = {\n",
    "    'eta': 0.3, \n",
    "    'max_depth': 3,  \n",
    "    'objective': 'multi:softprob',  \n",
    "    'num_class': 14} "
   ]
  },
  {
   "cell_type": "code",
   "execution_count": 0,
   "metadata": {
    "colab": {},
    "colab_type": "code",
    "id": "9Gzid0aR38Q4"
   },
   "outputs": [],
   "source": [
    "model = xgb.train(param, D_train, 20)"
   ]
  },
  {
   "cell_type": "code",
   "execution_count": 12,
   "metadata": {
    "colab": {
     "base_uri": "https://localhost:8080/",
     "height": 84
    },
    "colab_type": "code",
    "id": "1Mq-_Fvo3JkP",
    "outputId": "b1bdf264-1d96-44f6-d081-d4f82e976431"
   },
   "outputs": [
    {
     "name": "stdout",
     "output_type": "stream",
     "text": [
      "Accuracy = 0.48724743292480954\n",
      "F1 score = 0.5362075417010216\n",
      "Precision = 0.5988725807925748\n",
      "Recall = 0.5099972798011994\n"
     ]
    }
   ],
   "source": [
    "preds = model.predict(D_test)\n",
    "preds = np.asarray([np.argmax(line) for line in preds])\n",
    "\n",
    "print(\"Accuracy = {}\".format(accuracy_score(Y_test, preds)))\n",
    "print(\"F1 score = {}\".format(f1_score(Y_test, preds, average='macro')))\n",
    "print(\"Precision = {}\".format(precision_score(Y_test, preds, average='macro')))\n",
    "print(\"Recall = {}\".format(recall_score(Y_test, preds, average='macro')))"
   ]
  },
  {
   "cell_type": "code",
   "execution_count": 0,
   "metadata": {
    "colab": {},
    "colab_type": "code",
    "id": "z18jrDmN5_2L"
   },
   "outputs": [],
   "source": []
  }
 ],
 "metadata": {
  "colab": {
   "name": "Untitled25.ipynb",
   "provenance": []
  },
  "kernelspec": {
   "display_name": "Python 3",
   "language": "python",
   "name": "python3"
  },
  "language_info": {
   "codemirror_mode": {
    "name": "ipython",
    "version": 3
   },
   "file_extension": ".py",
   "mimetype": "text/x-python",
   "name": "python",
   "nbconvert_exporter": "python",
   "pygments_lexer": "ipython3",
   "version": "3.7.3"
  }
 },
 "nbformat": 4,
 "nbformat_minor": 1
}
